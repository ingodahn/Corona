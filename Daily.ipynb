{
 "cells": [
  {
   "cell_type": "markdown",
   "metadata": {
    "collapsed": false
   },
   "source": [
    "# COVID-19 Ländervergleich\n",
    "\n",
    "## Ingo Dahn (dahn@dahn-research.eu)\n",
    "\n",
    "Mit diesem Notebook kann man die Entwicklung der wöchentlichen COVID-19-Daten seit Anfang 2020 (Infizierte und Verstorbene) bis zum 14.12.2020 in zwei Ländern vergleichen. Diese Seite wird unter der [Creative Commons Lizenz CC BY-NC-SA 4.0](https://creativecommons.org/licenses/by-nc-sa/4.0/) veröffentlicht.\n",
    "\n",
    "Die Daten stammen von https://opendata.ecdc.europa.eu/covid19/casedistribution/csv. Aktuellere Daten werden hier nicht bereitgestellt."
   ]
  },
  {
   "cell_type": "code",
   "execution_count": 1,
   "metadata": {
    "collapsed": false,
    "jupyter": {
     "source_hidden": false
    },
    "scrolled": true
   },
   "outputs": [
    {
     "data": {
      "text/html": [
       "\n",
       "<style type=\"text/css\">\n",
       ".sagecell_interactContainer{border: none; margin: 0px; padding: 0px}\n",
       ".sagecell_interactControlLabel{min-width: 8ex; text-align: left !important}\n",
       ".sagecell_interactOutput{padding: 0px}\n",
       "</style>\n"
      ],
      "text/plain": [
       "\n",
       "<style type=\"text/css\">\n",
       ".sagecell_interactContainer{border: none; margin: 0px; padding: 0px}\n",
       ".sagecell_interactControlLabel{min-width: 8ex; text-align: left !important}\n",
       ".sagecell_interactOutput{padding: 0px}\n",
       "</style>\n"
      ]
     },
     "execution_count": 1,
     "metadata": {
     },
     "output_type": "execute_result"
    },
    {
     "data": {
      "text/html": [
       "Daten von 31/12/2019 bis 14/12/2020 geladen"
      ],
      "text/plain": [
       "Daten von 31/12/2019 bis 14/12/2020 geladen"
      ]
     },
     "execution_count": 1,
     "metadata": {
     },
     "output_type": "execute_result"
    },
    {
     "data": {
      "application/vnd.jupyter.widget-view+json": {
       "model_id": "3c351b4ec7f4424ab4afc9e8dc605279",
       "version_major": 2,
       "version_minor": 0
      },
      "text/plain": [
       "Interactive function <function panel_11 at 0x7f0c3a3585e0> with 1 widget\n",
       "  region_1s: ToggleButtons(descriptio…"
      ]
     },
     "execution_count": 1,
     "metadata": {
     },
     "output_type": "execute_result"
    }
   ],
   "source": [
    "import pandas as pd\n",
    "url=\"https://dahn-research.eu/corona/casedistribution.csv\"\n",
    "data=pd.read_csv(url)\n",
    "data=data.sort_values(by=['countriesAndTerritories','year','month','day'])\n",
    "dataV=data.values\n",
    "dataT=data.T\n",
    "dataTV=dataT.values\n",
    "regions=sorted(set(dataTV[10]))\n",
    "dataD={}\n",
    "for n in range(0,len(dataV)):\n",
    "   line=dataV[n]\n",
    "   region=line[10];country=line[6];date=line[0]; cases=line[4]; deaths=line[5]; population=line[9]\n",
    "   if country == 'Cura\\xc3\\xa7ao':\n",
    "    country='Curacao'\n",
    "   if region == 'Other' or population == 'nan':\n",
    "       next\n",
    "   if not region in dataD.keys():\n",
    "               dataD[region]={}\n",
    "   if not country in dataD[region].keys():\n",
    "        dataD[region][country]={'population': population, 'dates':[], 'cases':[],'deaths':[]}\n",
    "   dataD[region][country]['dates'].append(date)\n",
    "   dataD[region][country]['cases'].append(cases)\n",
    "   dataD[region][country]['deaths'].append(deaths)\n",
    "defaultCountries={'Europe': 'Germany', 'America': 'United_States_of_America','Asia': 'China', 'Africa':'South_Africa', 'Oceania': 'Australia'}\n",
    "datesAll=dataD['Europe']['Germany']['dates']\n",
    "dataNr=len(datesAll)\n",
    "style = \"\"\"\n",
    "<style type=\"text/css\">\n",
    ".sagecell_interactContainer{border: none; margin: 0px; padding: 0px}\n",
    ".sagecell_interactControlLabel{min-width: 8ex; text-align: left !important}\n",
    ".sagecell_interactOutput{padding: 0px}\n",
    "</style>\n",
    "\"\"\"\n",
    "show(html(style))\n",
    "show(html(u\"Daten von %s bis %s geladen\"%(datesAll[0],datesAll[dataNr-1])))\n",
    "\n",
    "datesMap={}\n",
    "for n in range(0,dataNr):\n",
    "    datesMap[datesAll[n]]=n\n",
    "\n",
    "regions=sorted(defaultCountries.keys())\n",
    "\n",
    "def meanedList(L,n):\n",
    "    LL=[sum(L[i-n:i])/n for i in range(n,len(L)+1)]\n",
    "    return LL\n",
    "\n",
    "def setDates(Dates,Data):\n",
    "    LL=[0 for n in range(0,dataNr)]\n",
    "    for i in range(0,len(Dates)):\n",
    "        LL[datesMap[Dates[i]]]=Data[i]\n",
    "    return LL\n",
    "\n",
    "def cumulateList(L):\n",
    "    LL=[];s=0;\n",
    "    for i in range(0,len(L)):\n",
    "        s += L[i]\n",
    "        LL.append(s)\n",
    "    return LL\n",
    "def normListPer(L,Ord,Pop):\n",
    "    po=Ord/Pop\n",
    "    return [n*po for n in L]\n",
    "\n",
    "def cumulatedNormed(L,m,c,n,P):\n",
    "    if m:\n",
    "        casePlotData0=meanedList(L,7)\n",
    "    else:\n",
    "        casePlotData0=L\n",
    "    if c:\n",
    "        casePlotData1=cumulateList(L)\n",
    "    else:\n",
    "        casePlotData1=casePlotData0\n",
    "    if n:\n",
    "        casePlotData=normListPer(casePlotData1,10^5,P)\n",
    "    else:\n",
    "        casePlotData=casePlotData1\n",
    "    return casePlotData\n",
    "\n",
    "region_1='Europe';country_1='Germany'\n",
    "region_2='America'; country_2='United_States_of_America'\n",
    "\n",
    "@interact\n",
    "def panel_11(region_1s=selector(regions,default=region_1,buttons=True,label=\"Region 1:\")):\n",
    "    @interact\n",
    "    def panel_12(country_1s=selector(sorted(dataD[region_1s].keys()),default=defaultCountries[region_1s], label=\"Land 1:\")):\n",
    "        global region_1\n",
    "        region_1=region_1s\n",
    "        global country_1\n",
    "        country_1=country_1s\n",
    "\n",
    "        @interact\n",
    "        def panel_21(region_2s=selector(regions,default=region_2,buttons=True,label=\"Region 2:\")):\n",
    "            @interact\n",
    "            def panel_22(country_2s=selector(sorted(dataD[region_2s].keys()),default=defaultCountries[region_2s], label=\"Land 2:\")):\n",
    "                global region_2\n",
    "                region_2=region_2s\n",
    "                global country_2\n",
    "                country_2=country_2s\n",
    "                @interact\n",
    "                def _(mean1=checkbox(True,label='Wochenmittel'), cumulate1=checkbox(False,label='Werte kumulieren'), norm1=checkbox(True,label=\"Werte normieren\")):\n",
    "                    global meaned\n",
    "                    meaned=mean1\n",
    "                    global cumulate\n",
    "                    cumulate=cumulate1\n",
    "                    global norm\n",
    "                    norm=norm1\n",
    "                    C1=setDates(dataD[region_1][country_1]['dates'],dataD[region_1][country_1]['cases'])\n",
    "                    C2=setDates(dataD[region_2][country_2]['dates'],dataD[region_2][country_2]['cases'])\n",
    "                    D1=setDates(dataD[region_1][country_1]['dates'],dataD[region_1][country_1]['deaths'])\n",
    "                    D2=setDates(dataD[region_2][country_2]['dates'],dataD[region_2][country_2]['deaths'])\n",
    "                    DataCasePlot1=cumulatedNormed(C1,mean1,cumulate1,norm1,dataD[region_1][country_1]['population'])\n",
    "                    DataCasePlot2=cumulatedNormed(C2,mean1,cumulate1,norm1,dataD[region_2][country_2]['population'])\n",
    "                    DataDeathPlot1=cumulatedNormed(D1,mean1,cumulate1,norm1,dataD[region_1][country_1]['population'])\n",
    "                    DataDeathPlot2=cumulatedNormed(D2,mean1,cumulate1,norm1,dataD[region_2][country_2]['population'])\n",
    "                    labelCase1=\"COVID-19-Infektionen in \"+country_1\n",
    "                    labelCase2=\"COVID-19-Infektionen in \"+country_2\n",
    "                    labelDeath1=\"COVID-19-Tote in \"+country_1\n",
    "                    labelDeath2=\"COVID-19-Tote in \"+country_2\n",
    "                    if cumulate:\n",
    "                        labelCase1 += \" kumuliert\";labelCase2 += \" kumuliert\";\n",
    "                        labelDeath1 += \" kumuliert\";labelDeath2 += \" kumuliert\";\n",
    "                    if norm:\n",
    "                        labelCase1 += \", pro 100 000 Einwohner\";labelCase2 += \", pro 100 000 Einwohner\";\n",
    "                        labelDeath1 += \", pro 100 000 Einwohner\";labelDeath2 += \", pro 100 000 Einwohner\";\n",
    "                    if meaned:\n",
    "                        labelCase1 += \", gemittelt\";labelCase2 += \", gemittelt\";\n",
    "                        #labelDeath1 += \", gemittelt\";labelDeath2 += \", gemittelt\";\n",
    "                    show(list_plot(DataCasePlot1, color='blue',legend_label=labelCase1)+list_plot(DataCasePlot2, color='red',legend_label=labelCase2))\n",
    "                    show(list_plot(DataDeathPlot1, color='blue',legend_label=labelDeath1)+list_plot(DataDeathPlot2, color='red',legend_label=labelDeath2))"
   ]
  }
 ],
 "metadata": {
  "kernelspec": {
   "display_name": "SageMath",
   "language": "sagemath",
   "metadata": {
    "cocalc": {
     "description": "Open-source mathematical software system",
     "priority": 1,
     "url": "https://www.sagemath.org/"
    }
   },
   "name": "sagemath",
   "resource_dir": "/usr/local/share/jupyter/kernels/sagemath"
  },
  "language_info": {
   "codemirror_mode": {
    "name": "ipython",
    "version": 3
   },
   "file_extension": ".py",
   "mimetype": "text/x-python",
   "name": "python",
   "nbconvert_exporter": "python",
   "pygments_lexer": "ipython3",
   "version": "3.8.5"
  }
 },
 "nbformat": 4,
 "nbformat_minor": 4
}