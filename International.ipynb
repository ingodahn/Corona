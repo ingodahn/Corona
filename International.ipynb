{
 "cells": [
  {
   "cell_type": "markdown",
   "metadata": {
    "collapsed": false
   },
   "source": [
    "# COVID-19 Ländervergleich\n",
    "\n",
    "## Ingo Dahn (dahn@dahn-research.eu)\n",
    "\n",
    "Mit diesem Notebook kann man die Entwicklung der COVID-19-Daten (Infizierte und Verstorbene) in zwei Ländern vergleichen. Diese Seite wird unter der [Creative Commons Lizenz CC BY-NC-SA 4.0](https://creativecommons.org/licenses/by-nc-sa/4.0/) veröffentlicht.\n",
    "\n",
    "Die Daten werden von https://opendata.ecdc.europa.eu/covid19/casedistribution/csv geladen und sind so stets aktuell."
   ]
  },
  {
   "cell_type": "code",
   "execution_count": 3,
   "metadata": {
    "collapsed": false,
    "jupyter": {
     "source_hidden": false
    },
    "scrolled": true
   },
   "outputs": [
    {
     "data": {
      "text/html": [
       "Daten von 31/12/2019 bis 07/06/2020 geladen"
      ],
      "text/plain": [
       "Daten von 31/12/2019 bis 07/06/2020 geladen"
      ]
     },
     "execution_count": 3,
     "metadata": {
     },
     "output_type": "execute_result"
    },
    {
     "data": {
      "application/vnd.jupyter.widget-view+json": {
       "model_id": "cbc1a771421343de9743f1726c79f99e",
       "version_major": 2,
       "version_minor": 0
      },
      "text/plain": [
       "SW50ZXJhY3RpdmUgZnVuY3Rpb24gPGZ1bmN0aW9uIHBhbmVsXzExIGF0IDB4N2YxZTA0Y2I1Mzk4PiB3aXRoIDEgd2lkZ2V0CiAgcmVnaW9uXzFzOiBUb2dnbGVCdXR0b25zKGRlc2NyaXB0aW/igKY=\n"
      ]
     },
     "execution_count": 3,
     "metadata": {
     },
     "output_type": "execute_result"
    }
   ],
   "source": [
    "import pandas as pd\n",
    "url=\"https://opendata.ecdc.europa.eu/covid19/casedistribution/csv\"\n",
    "data=pd.read_csv(url)\n",
    "data=data.sort_values(by=['countriesAndTerritories','year','month','day'])\n",
    "dataV=data.values\n",
    "dataT=data.T\n",
    "dataTV=dataT.values\n",
    "regions=sorted(set(dataTV[10]))\n",
    "dataD={}\n",
    "for n in range(0,len(dataV)):\n",
    "   line=dataV[n]\n",
    "   region=line[10];country=line[6];date=line[0]; cases=line[4]; deaths=line[5]; population=line[9]\n",
    "   if country == 'Cura\\xc3\\xa7ao':\n",
    "    country='Curacao'\n",
    "   if region == 'Other' or population == 'nan':\n",
    "       next\n",
    "   if not region in dataD.keys():\n",
    "               dataD[region]={}\n",
    "   if not country in dataD[region].keys():\n",
    "        dataD[region][country]={'population': population, 'dates':[], 'cases':[],'deaths':[]}\n",
    "   dataD[region][country]['dates'].append(date)\n",
    "   dataD[region][country]['cases'].append(cases)\n",
    "   dataD[region][country]['deaths'].append(deaths)\n",
    "defaultCountries={'Europe': 'Germany', 'America': 'United_States_of_America','Asia': 'China', 'Africa':'South_Africa', 'Oceania': 'Australia'}\n",
    "datesAll=dataD['Europe']['Germany']['dates']\n",
    "dataNr=len(datesAll)\n",
    "datesMap={}\n",
    "for n in range(0,dataNr):\n",
    "    datesMap[datesAll[n]]=n\n",
    "def setDates(Dates,Data):\n",
    "    LL=[0 for n in range(0,dataNr)]\n",
    "    for i in range(0,len(Dates)):\n",
    "        LL[datesMap[Dates[i]]]=Data[i]\n",
    "    return LL\n",
    "regions=sorted(defaultCountries.keys())\n",
    "def cumulateList(L):\n",
    "    LL=[];s=0;\n",
    "    for i in range(0,len(L)):\n",
    "        s += L[i]\n",
    "        LL.append(s)\n",
    "    return LL\n",
    "def normListPer(L,Ord,Pop):\n",
    "    po=Ord/Pop\n",
    "    return [n*po for n in L]\n",
    "def cumulatedNormed(L,c,n,P):\n",
    "    if c:\n",
    "        casePlotData1=cumulateList(L)\n",
    "    else:\n",
    "        casePlotData1=L\n",
    "    if n:\n",
    "        casePlotData=normListPer(casePlotData1,10^5,P)\n",
    "    else:\n",
    "        casePlotData=casePlotData1\n",
    "    return casePlotData\n",
    "region_1='Europe';country_1='Germany'\n",
    "region_2='America'; country_2='United_States_of_America'\n",
    "show(html(u\"Daten von %s bis %s geladen\"%(datesAll[0],datesAll[dataNr-1])))\n",
    "@interact\n",
    "def panel_11(region_1s=selector(regions,default=region_1,buttons=True,label=\"Region 1:\")):\n",
    "    @interact\n",
    "    def panel_12(country_1s=selector(sorted(dataD[region_1s].keys()),default=defaultCountries[region_1s], label=\"Land 1:\")):\n",
    "        global region_1\n",
    "        region_1=region_1s\n",
    "        global country_1\n",
    "        country_1=country_1s\n",
    "\n",
    "        @interact\n",
    "        def panel_21(region_2s=selector(regions,default=region_2,buttons=True,label=\"Region 2:\")):\n",
    "            @interact\n",
    "            def panel_22(country_2s=selector(sorted(dataD[region_2s].keys()),default=defaultCountries[region_2s], label=\"Land 2:\")):\n",
    "                global region_2\n",
    "                region_2=region_2s\n",
    "                global country_2\n",
    "                country_2=country_2s\n",
    "                @interact\n",
    "                def _(cumulate1=checkbox(True,label='Werte kumulieren'), norm1=checkbox(True,label=\"Werte normieren\")):\n",
    "                    global cumulate\n",
    "                    cumulate=cumulate1\n",
    "                    global norm\n",
    "                    norm=norm1\n",
    "                    C1=setDates(dataD[region_1][country_1]['dates'],dataD[region_1][country_1]['cases'])\n",
    "                    C2=setDates(dataD[region_2][country_2]['dates'],dataD[region_2][country_2]['cases'])\n",
    "                    D1=setDates(dataD[region_1][country_1]['dates'],dataD[region_1][country_1]['deaths'])\n",
    "                    D2=setDates(dataD[region_2][country_2]['dates'],dataD[region_2][country_2]['deaths'])\n",
    "                    DataCasePlot1=cumulatedNormed(C1,cumulate1,norm1,dataD[region_1][country_1]['population'])\n",
    "                    DataCasePlot2=cumulatedNormed(C2,cumulate1,norm1,dataD[region_2][country_2]['population'])\n",
    "                    DataDeathPlot1=cumulatedNormed(D1,cumulate1,norm1,dataD[region_1][country_1]['population'])\n",
    "                    DataDeathPlot2=cumulatedNormed(D2,cumulate1,norm1,dataD[region_2][country_2]['population'])\n",
    "                    labelCase1=\"COVID-19-Infektionen in \"+country_1\n",
    "                    labelCase2=\"COVID-19-Infektionen in \"+country_2\n",
    "                    labelDeath1=\"COVID-19-Tote in \"+country_1\n",
    "                    labelDeath2=\"COVID-19-Tote in \"+country_2\n",
    "                    if cumulate:\n",
    "                        labelCase1 += \" kumuliert\";labelCase2 += \" kumuliert\";labelDeath1 += \" kumuliert\";labelDeath2 += \" kumuliert\";\n",
    "                    if norm:\n",
    "                        labelCase1 += \", pro 100 000 Einwohner\";labelCase2 += \", pro 100 000 Einwohner\";labelDeath1 += \", pro 100 000 Einwohner\";labelDeath2 += \", pro 100 000 Einwohner\";\n",
    "                    show(list_plot(DataCasePlot1, color='blue',legend_label=labelCase1)+list_plot(DataCasePlot2, color='red',legend_label=labelCase2))\n",
    "                    show(list_plot(DataDeathPlot1, color='blue',legend_label=labelDeath1)+list_plot(DataDeathPlot2, color='red',legend_label=labelDeath2))"
   ]
  }
 ],
 "metadata": {
  "kernelspec": {
   "display_name": "SageMath",
   "env": {
    "CCACHE_BASEDIR": "/usr/local/sage",
    "CPATH": "/usr/local/sage/local/include:/usr/include/x86_64-linux-gnu",
    "ECLDIR": "/usr/local/sage/local/lib/ecl/",
    "GPDOCDIR": "/usr/local/sage/local/share/pari/doc",
    "GPHELP": "/usr/local/sage/local/bin/gphelp",
    "GP_DATA_DIR": "/usr/local/sage/local/share/pari",
    "LD": "ld",
    "LDFLAGS": "-L/usr/local/sage/local/lib -Wl,-rpath,/usr/local/sage/local/lib ",
    "LIBRARY_PATH": "/usr/local/sage/local/lib:/usr/lib/x86_64-linux-gnu",
    "MAXIMA_PREFIX": "/usr/local/sage/local",
    "PERL5LIB": "/usr/local/sage/local/lib/perl5:",
    "PYTHONHOME": "/usr/local/sage/local",
    "PYTHONPATH": "$HOME/.local/lib/python2.7/site-packages:/usr/local/sage/local/lib/python:/usr/local/sage/local/lib/python/site_packages",
    "PYTHONUSERBASE": "$HOME/.local",
    "PYTHON_EGG_CACHE": "$HOME/.sage/.python-eggs",
    "RANLIB": "ranlib",
    "R_MAKEVARS_SITE": "/usr/local/sage/local/lib/R/share/Makevars.site",
    "R_MAKEVARS_USER": "$HOME/.sage/R/Makevars.user",
    "SAGE64": "no",
    "SAGE_ATLAS_LIB": "/usr/lib/",
    "SAGE_DATA": "/usr/local/sage/local/share",
    "SAGE_DISTFILES": "/usr/local/sage/upstream",
    "SAGE_DOC": "/usr/local/sage/local/share/doc/sage",
    "SAGE_DOC_MATHJAX": "True",
    "SAGE_DOC_SRC": "/usr/local/sage/src/doc",
    "SAGE_ENV_SOURCED": "4",
    "SAGE_ETC": "/usr/local/sage/local/etc",
    "SAGE_EXTCODE": "/usr/local/sage/local/share/sage/ext",
    "SAGE_LOCAL": "/usr/local/sage/local",
    "SAGE_LOGS": "/usr/local/sage/logs/pkgs",
    "SAGE_ORIG_PATH_SET": "True",
    "SAGE_REPO_ANONYMOUS": "git://trac.sagemath.org/sage.git",
    "SAGE_ROOT": "/usr/local/sage",
    "SAGE_SCRIPTS_DIR": "/usr/local/sage/src/bin",
    "SAGE_SHARE": "/usr/local/sage/local/share",
    "SAGE_SPKG_INST": "/usr/local/sage/local/var/lib/sage/installed",
    "SAGE_SRC": "/usr/local/sage/src",
    "SINGULARPATH": "/usr/local/sage/local/share/singular",
    "SINGULAR_EXECUTABLE": "/usr/local/sage/local/bin/Singular",
    "TERMINFO": "/usr/local/sage/local/share/terminfo"
   },
   "name": "sagemath"
  },
  "language_info": {
   "codemirror_mode": {
    "name": "ipython",
    "version": 2
   },
   "file_extension": ".py",
   "mimetype": "text/x-python",
   "name": "python",
   "nbconvert_exporter": "python",
   "pygments_lexer": "ipython2",
   "version": "2.7.15"
  }
 },
 "nbformat": 4,
 "nbformat_minor": 4
}